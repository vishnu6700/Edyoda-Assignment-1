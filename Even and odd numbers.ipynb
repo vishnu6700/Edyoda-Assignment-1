{
 "cells": [
  {
   "cell_type": "code",
   "execution_count": 3,
   "id": "e86cf128",
   "metadata": {},
   "outputs": [
    {
     "name": "stdout",
     "output_type": "stream",
     "text": [
      "7 5 2 10 18 13 27 279 46 18 20 21\n",
      "Number of even numbers:  6\n",
      "Number of odd numbers:  6\n"
     ]
    }
   ],
   "source": [
    "l=list(map(int, input().split()))\n",
    "even = 0\n",
    "odd = 0\n",
    "for i in l:\n",
    "    if i%2==0:\n",
    "        even+=1\n",
    "    else:\n",
    "        odd+=1\n",
    "print(\"Number of even numbers: \", even)\n",
    "print(\"Number of odd numbers: \", odd)"
   ]
  },
  {
   "cell_type": "code",
   "execution_count": null,
   "id": "d1987c8d",
   "metadata": {},
   "outputs": [],
   "source": []
  }
 ],
 "metadata": {
  "kernelspec": {
   "display_name": "Python 3 (ipykernel)",
   "language": "python",
   "name": "python3"
  },
  "language_info": {
   "codemirror_mode": {
    "name": "ipython",
    "version": 3
   },
   "file_extension": ".py",
   "mimetype": "text/x-python",
   "name": "python",
   "nbconvert_exporter": "python",
   "pygments_lexer": "ipython3",
   "version": "3.10.1"
  }
 },
 "nbformat": 4,
 "nbformat_minor": 5
}
